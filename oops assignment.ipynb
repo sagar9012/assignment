{
 "cells": [
  {
   "cell_type": "code",
   "execution_count": 3,
   "id": "670a08b6-f8fc-48b2-9a32-3fa143a21a13",
   "metadata": {},
   "outputs": [],
   "source": [
    "'''Q1, Create a vehicle class with an init method having instance variables as name_of_vehicle, max_speed\n",
    "and average_of_vehicle.'''\n",
    "#ans:\n",
    "class Vehicle:\n",
    "    def __init__(self,name_of_vehicle,max_speed,average_of_vehicle):\n",
    "        self.name_of_vehicle = name_of_vehicle\n",
    "        self.max_speed = max_speed\n",
    "        self.average_of_vehicle = average_of_vehicle\n",
    "obj = Vehicle(\"bus\",120,60)"
   ]
  },
  {
   "cell_type": "code",
   "execution_count": 4,
   "id": "72f82825-033f-4a84-8ba0-c9fe231f0938",
   "metadata": {},
   "outputs": [
    {
     "data": {
      "text/plain": [
       "'bus'"
      ]
     },
     "execution_count": 4,
     "metadata": {},
     "output_type": "execute_result"
    }
   ],
   "source": [
    "obj.name_of_vehicle"
   ]
  },
  {
   "cell_type": "code",
   "execution_count": 5,
   "id": "d13058ad-8ffe-41a3-b906-6fb015bafbf6",
   "metadata": {},
   "outputs": [],
   "source": [
    "'''Q2. Create a child class car from the vehicle class created in Que 1, which will inherit the vehicle class.\n",
    "Create a method named seating_capacity which takes capacity as an argument and returns the name of\n",
    "the vehicle and its seating capacity.'''\n",
    "#ans:\n",
    "class car(Vehicle):\n",
    "    def seating_capacity(self,capacity):\n",
    "        return self.name_of_vehicle,capacity"
   ]
  },
  {
   "cell_type": "code",
   "execution_count": 7,
   "id": "81bc72ea-88a1-4ade-a356-e4625dfb2a27",
   "metadata": {},
   "outputs": [
    {
     "data": {
      "text/plain": [
       "('bus', 100)"
      ]
     },
     "execution_count": 7,
     "metadata": {},
     "output_type": "execute_result"
    }
   ],
   "source": [
    "obj1 = car(\"bus\",120,60)\n",
    "obj1.seating_capacity(100)"
   ]
  },
  {
   "cell_type": "code",
   "execution_count": null,
   "id": "99d34db0-d818-41ab-9a73-b84db4dd8cac",
   "metadata": {},
   "outputs": [],
   "source": [
    "'''Q3. What is multiple inheritance? Write a python code to demonstrate multiple inheritance.'''\n",
    "ans:\n",
    "    multiple inheritance is nothing but acquiring the properties of child class from two or more parent classes\n"
   ]
  },
  {
   "cell_type": "code",
   "execution_count": 8,
   "id": "95d71b1e-9f78-4f18-af30-da637cb1cfa3",
   "metadata": {},
   "outputs": [],
   "source": [
    "#pythode code :\n",
    "class base1:\n",
    "    def display(self):\n",
    "        print(\"hello world\")\n",
    "class base2:\n",
    "    def display1(self):\n",
    "        print(\"hello python\")\n",
    "class child(base1,base2):\n",
    "    def display2(self):\n",
    "        print(\"this is the multiple inheritance\")\n",
    "obj = child()"
   ]
  },
  {
   "cell_type": "code",
   "execution_count": 9,
   "id": "52d03825-c61f-4fde-bcac-edcc552dd9a9",
   "metadata": {},
   "outputs": [
    {
     "name": "stdout",
     "output_type": "stream",
     "text": [
      "this is the multiple inheritance\n"
     ]
    }
   ],
   "source": [
    "obj.display2()"
   ]
  },
  {
   "cell_type": "code",
   "execution_count": 10,
   "id": "7e654095-149c-40cb-9ae4-3d3219cd2d21",
   "metadata": {},
   "outputs": [
    {
     "name": "stdout",
     "output_type": "stream",
     "text": [
      "hello world\n"
     ]
    }
   ],
   "source": [
    "obj.display()"
   ]
  },
  {
   "cell_type": "code",
   "execution_count": 11,
   "id": "2058626a-3b88-4d05-9422-e3ae303f8aae",
   "metadata": {},
   "outputs": [
    {
     "name": "stdout",
     "output_type": "stream",
     "text": [
      "hello python\n"
     ]
    }
   ],
   "source": [
    "obj.display1()"
   ]
  },
  {
   "cell_type": "code",
   "execution_count": null,
   "id": "1f114bc5-6a89-469c-8e29-ff6715e54f46",
   "metadata": {},
   "outputs": [],
   "source": [
    "'''Q4. What are getter and setter in python? Create a class and create a getter and a setter method in this\n",
    "class.'''\n",
    "ans:\n",
    "    Getter: A method that allows you to access an attribute in a given class. \n",
    "    Setter: A method that allows you to set or mutate the value of an attribute in a class"
   ]
  },
  {
   "cell_type": "code",
   "execution_count": 12,
   "id": "7167b7e0-0198-45e7-a2f6-cd7137db0b7a",
   "metadata": {},
   "outputs": [],
   "source": [
    "#python code:\n",
    "class person_age:\n",
    "    def __init__(self,age=0):\n",
    "        self.__age = age\n",
    "    #setter method\n",
    "    def set_age(self,a):\n",
    "        self.__age = a\n",
    "    #getter method\n",
    "    def get_age(self):\n",
    "        return self.__age\n",
    "age = person_age()"
   ]
  },
  {
   "cell_type": "code",
   "execution_count": 13,
   "id": "6f6cf2b6-8f38-497e-991c-2ea00c234824",
   "metadata": {},
   "outputs": [],
   "source": [
    "age.set_age(21)\n"
   ]
  },
  {
   "cell_type": "code",
   "execution_count": 14,
   "id": "fb132cbc-68d8-4f7b-a1d0-1bc8f742dacb",
   "metadata": {},
   "outputs": [
    {
     "data": {
      "text/plain": [
       "21"
      ]
     },
     "execution_count": 14,
     "metadata": {},
     "output_type": "execute_result"
    }
   ],
   "source": [
    "age.get_age()"
   ]
  },
  {
   "cell_type": "code",
   "execution_count": null,
   "id": "bf146dfe-9c2d-4ec4-8460-92d9965658fc",
   "metadata": {},
   "outputs": [],
   "source": [
    "'''Q5.What is method overriding in python? Write a python code to demonstrate method overriding.'''\n",
    "ans:\n",
    "    method overriding is nothing but updating of a method\n",
    "    when child class is not satisfy the implementation of a method in parent class,then child class can implement the again for the method\n",
    "    this is known as the method overridden"
   ]
  },
  {
   "cell_type": "code",
   "execution_count": 15,
   "id": "161b2424-2638-499d-a249-f56885de1286",
   "metadata": {},
   "outputs": [
    {
     "name": "stdout",
     "output_type": "stream",
     "text": [
      "hello python\n"
     ]
    }
   ],
   "source": [
    "#python code:\n",
    "class base:\n",
    "    def display(self):\n",
    "        print(\"hello world\")\n",
    "class child(base):\n",
    "    def display(self):\n",
    "        print(\"hello python\")\n",
    "ovr = child()\n",
    "ovr.display()"
   ]
  },
  {
   "cell_type": "code",
   "execution_count": null,
   "id": "f04c33e8-0416-423b-a93f-58affb0bf555",
   "metadata": {},
   "outputs": [],
   "source": []
  }
 ],
 "metadata": {
  "kernelspec": {
   "display_name": "Python 3 (ipykernel)",
   "language": "python",
   "name": "python3"
  },
  "language_info": {
   "codemirror_mode": {
    "name": "ipython",
    "version": 3
   },
   "file_extension": ".py",
   "mimetype": "text/x-python",
   "name": "python",
   "nbconvert_exporter": "python",
   "pygments_lexer": "ipython3",
   "version": "3.10.8"
  }
 },
 "nbformat": 4,
 "nbformat_minor": 5
}
