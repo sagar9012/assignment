{
 "cells": [
  {
   "cell_type": "code",
   "execution_count": null,
   "id": "4eb59bf2-2605-4d74-a52c-fea201c9a150",
   "metadata": {},
   "outputs": [],
   "source": [
    "\"\"\"Q1. How do you comment code in Python? What are the different types of comments?\"\"\"\n",
    "ans:\n",
    "    we can commenet code in python by using #,this is for single line and by using\n",
    "    '''''',this is for multiple line\n",
    "different types of comments are single line,multiple line and docstring method"
   ]
  },
  {
   "cell_type": "code",
   "execution_count": null,
   "id": "c7ebc74e-2199-46f5-8780-566fe59f80e6",
   "metadata": {},
   "outputs": [],
   "source": [
    "'''Q2. What are variables in Python? How do you declare and assign values to variables?'''\n",
    "ans:\n",
    "    A variable is a string of characters and numbers associated with a piece of information. \n",
    "    The assignment operator, denoted by the “=” symbol, is the operator that is used to assign values to variables in Python.\n",
    "    The line x=1 takes the known value, 1, and assigns that value to the variable with name “x”."
   ]
  },
  {
   "cell_type": "code",
   "execution_count": null,
   "id": "93867532-d8f7-41d3-9eac-02c2ccc4dcac",
   "metadata": {},
   "outputs": [],
   "source": [
    "'''Q3. How do you convert one data type to another in Python?'''\n",
    "ans:\n",
    "    by using type cating we can convert the one data type to another data type\n",
    "    example\n",
    "    list(variable_name)\n",
    "    set(variable_name) etc"
   ]
  },
  {
   "cell_type": "code",
   "execution_count": null,
   "id": "6c150cda-ea54-4da2-80c2-a14701d45a7d",
   "metadata": {},
   "outputs": [],
   "source": [
    "'''Q4. How do you write and execute a Python script from the command line?'''\n",
    "ans:\n",
    "    creating a scripe:\n",
    "        python myscript.py\n",
    "    Execute the Python Script:\n",
    "        python3 myscript.py\n",
    "        "
   ]
  },
  {
   "cell_type": "code",
   "execution_count": 5,
   "id": "048c9257-1d5b-4993-afe3-9cb590d42c03",
   "metadata": {},
   "outputs": [
    {
     "data": {
      "text/plain": [
       "[2, 3]"
      ]
     },
     "execution_count": 5,
     "metadata": {},
     "output_type": "execute_result"
    }
   ],
   "source": [
    "'''Q5. Given a list my_list = [1, 2, 3, 4, 5], write the code to slice the list and obtain the sub-list [2, 3].'''\n",
    "#ans:\n",
    "my_list=[1,2,3,4,5]\n",
    "my_list[1:3]"
   ]
  },
  {
   "cell_type": "code",
   "execution_count": null,
   "id": "6bbf4e25-0ef1-4353-bbf2-075f94949d14",
   "metadata": {},
   "outputs": [],
   "source": [
    "'''Q6. What is a complex number in mathematics, and how is it represented in Python?'''\n",
    "ans:\n",
    "    Complex numbers are the numbers that are expressed in the form of a+ib where, a,b are real numbers and 'i' is an imaginary number called “iota”\n",
    "    representation in python:\n",
    "        (x + yj) where x and y are real numbers and j is an imaginary number which is the square root of -1."
   ]
  },
  {
   "cell_type": "code",
   "execution_count": null,
   "id": "778b254c-52d2-4372-9c8c-cbcbc489adc6",
   "metadata": {},
   "outputs": [],
   "source": [
    "'''Q7. What is the correct way to declare a variable named age and assign the value 25 to it?'''\n",
    "ans:\n",
    "    age = 25"
   ]
  },
  {
   "cell_type": "code",
   "execution_count": null,
   "id": "f2454a0d-6278-488f-97e7-c3c7544df77a",
   "metadata": {},
   "outputs": [],
   "source": [
    "'''Q8. Declare a variable named price and assign the value 9.99 to it. What data type does this variable\n",
    "belong to?'''\n",
    "#ans:\n",
    "price = 9.99\n",
    "data type of the variable is float"
   ]
  },
  {
   "cell_type": "code",
   "execution_count": 6,
   "id": "88f05483-b26d-4a5b-919c-79ecd63a8d9e",
   "metadata": {},
   "outputs": [
    {
     "name": "stdout",
     "output_type": "stream",
     "text": [
      "puli sagar\n"
     ]
    }
   ],
   "source": [
    "'''Q9. Create a variable named name and assign your full name to it as a string. How would you print the\n",
    "value of this variable?'''\n",
    "#ans:\n",
    "name = \"puli sagar\"\n",
    "print(name)"
   ]
  },
  {
   "cell_type": "code",
   "execution_count": 11,
   "id": "0bdbde47-7d13-4608-b85b-b29b5f2c2864",
   "metadata": {},
   "outputs": [
    {
     "data": {
      "text/plain": [
       "'World!'"
      ]
     },
     "execution_count": 11,
     "metadata": {},
     "output_type": "execute_result"
    }
   ],
   "source": [
    "'''Q10. Given the string \"Hello, World!\", extract the substring \"World\".'''\n",
    "#ans:\n",
    "my_string = \"Hello, World!\"\n",
    "my_string[7:]"
   ]
  },
  {
   "cell_type": "code",
   "execution_count": 12,
   "id": "99190509-2dde-4cb2-a6e5-243d48d54e09",
   "metadata": {},
   "outputs": [
    {
     "data": {
      "text/plain": [
       "True"
      ]
     },
     "execution_count": 12,
     "metadata": {},
     "output_type": "execute_result"
    }
   ],
   "source": [
    "'''Q11. Create a variable named \"is_student\" and assign it a boolean value indicating whether you are\n",
    "currently a student or not.'''\n",
    "#ans:\n",
    "is_student = True\n",
    "is_student"
   ]
  },
  {
   "cell_type": "code",
   "execution_count": null,
   "id": "f0a2ba7a-3237-426f-af35-f32396e49848",
   "metadata": {},
   "outputs": [],
   "source": []
  }
 ],
 "metadata": {
  "kernelspec": {
   "display_name": "Python 3 (ipykernel)",
   "language": "python",
   "name": "python3"
  },
  "language_info": {
   "codemirror_mode": {
    "name": "ipython",
    "version": 3
   },
   "file_extension": ".py",
   "mimetype": "text/x-python",
   "name": "python",
   "nbconvert_exporter": "python",
   "pygments_lexer": "ipython3",
   "version": "3.10.8"
  }
 },
 "nbformat": 4,
 "nbformat_minor": 5
}
